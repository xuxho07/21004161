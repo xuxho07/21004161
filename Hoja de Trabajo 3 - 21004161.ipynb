{
 "cells": [
  {
   "cell_type": "markdown",
   "metadata": {},
   "source": [
    "## <font color=blue>Javier Antonio García Perdomo </font>\n",
    "## <font color=red>21004161</font>\n",
    "## Maestría en Data Science\n",
    "## <font color=green>Ciencia de Datos en Python V </font>\n",
    "## <font color=red>05/03/2021</font>"
   ]
  },
  {
   "cell_type": "markdown",
   "metadata": {},
   "source": [
    "### <h1><center><font color=green>Hoja de trabajo 3 - Diccionarios, Sets y Programación Orientada a Objetos</font>  "
   ]
  },
  {
   "cell_type": "markdown",
   "metadata": {},
   "source": [
    "## Parte 1 - Programación Orientada a Objetos\n",
    "#### Genere una clase llamada ?my_regresion? en Python puro (sin utilizar ninguna librería) que sea capaz de encontrar de forma analítica los coeficientes de una regresión lineal (β0 y β1). Su clase debe poseer los siguientes campos: β0, β1 los cuales representan los parámetros de la regresión, X y Y los cuales representan la lista de valores con los que se calcularon los parámetros de la regresión. Adicionalmente su clase debe poseer los siguientes métodos:"
   ]
  },
  {
   "cell_type": "markdown",
   "metadata": {},
   "source": [
    "1. Constructor Principal: Este constructor debe poseer la siguiente forma init (self, x, y) donde X y Y son listas de números con la misma cantidad de elementos. A partir de este constructor usted deberá calcular los parámetros β0 y β1, puede usar las ecuaciones para este calculo.\n",
    "2. Método Predict(val): Este método devuelve la predicción de la regresión aplicada sobre el valor que recibe como parámetro.\n",
    "3. Método PredictN(vals): Este método devuelve la predicción de la regresión aplicada sobre una lista de valores que recibe como parámetro.\n",
    "4. Método r2(): Este método calcula el r2 (coeficiente de determinación) de la regresión, para calcular dicho valor puede usar la ecuación.\n",
    "5. Método r(): Este método devuelve el coeficiente de correlación el cual se calcula como la raíz cuadrada el coeficiente de determinación.\n",
    "6. Método getAllRegParams(): Este método devuelve un diccionario con todos los parámetros y estadísticos de la regresión lineal, el diccionario a devolver debe tener la siguiente estructura: {b0 : valor, b1 : valor, r2 : valor, r : valor}\n",
    "7. Constructor from file(fileName): Este método es otro constructor el cual permite crear la regresión lineal a partir de un archivo .csv, notar que fileName es el nombre del archivo que recibe como parámetro. Dentro del archivo deben existir dos columnas, la primera es la variable dependiente es decir Y y la segunda se refiere a los valores de la variable independiente, es decir X regresión desde dos listas num ́ericas. Para desarrollar este método NO puede utilizar ninguna librería que lea un archivo .csv o similares."
   ]
  },
  {
   "cell_type": "code",
   "execution_count": 19,
   "metadata": {},
   "outputs": [
    {
     "name": "stdout",
     "output_type": "stream",
     "text": [
      "28.6 35.4 9734\n",
      "-1.35367545076283\n",
      "74.11511789181694\n"
     ]
    }
   ],
   "source": [
    "#lista de prueba\n",
    "X=[30, 28, 32, 25, 25, 25, 22, 24, 35, 40]\n",
    "Y=[25, 30, 27, 40, 42, 40, 50, 45, 30, 25]\n",
    "\n",
    "n=len(X)\n",
    "sumaXY=0\n",
    "sumaX=0\n",
    "sumaY=0\n",
    "sumaX2=0\n",
    "for i in range(0,n):\n",
    "    sumaX=sumaX+X[i]\n",
    "    sumaY=sumaY+Y[i]\n",
    "    sumaXY=sumaXY+X[i]*Y[i]\n",
    "    sumaX2=sumaX2+X[k]*X[]\n",
    "    \n",
    "print(sumaX/n, sumaY/n, sumaXY)\n",
    "SXY=sumaXY-sumaX*sumaY/n\n",
    "SXX=sumaX2-sumaX*sumaX/n\n",
    "beta1=SXY/SXX\n",
    "print(beta1)\n",
    "beta0=(sumaY/n)-beta1*(sumaX/n)\n",
    "print(beta0)\n"
   ]
  },
  {
   "cell_type": "code",
   "execution_count": null,
   "metadata": {},
   "outputs": [],
   "source": []
  },
  {
   "cell_type": "code",
   "execution_count": 29,
   "metadata": {},
   "outputs": [
    {
     "name": "stdout",
     "output_type": "stream",
     "text": [
      "28.6 35.4 9734\n",
      "-1.35367545076283\n",
      "74.11511789181694\n",
      "[33.50485436893204, 36.2122052704577, 30.79750346740638, 40.27323162274619, 40.27323162274619, 40.27323162274619, 44.334257975034674, 41.62690707350902, 26.736477115117893, 19.96809986130374]\n",
      "[30, 28, 32, 25, 25, 25, 22, 24, 35, 40] [25, 30, 27, 40, 42, 40, 50, 45, 30, 25]\n",
      "{'b0': 74.11511789181694, 'b1': -1.35367545076283, 'r2': 0.7128599012420502, 'r': 0.8443103109888273}\n"
     ]
    }
   ],
   "source": [
    "import math \n",
    "import numpy as np #Librería numérica\n",
    "import matplotlib.pyplot as plt #Para crear gráficos\n",
    "# %matplotlib inline #Para hacer los gráficos dentro del jupyter notebook\n",
    "\n",
    "class my_regresion:\n",
    "    def __init__(self, X, Y):\n",
    "        self.X=X\n",
    "        self.Y=Y\n",
    "        if len(X)!=len(Y):\n",
    "            print(\"Las listas deben ser de la misma cantidad de elementes\")\n",
    "        else:\n",
    "            n=len(X)\n",
    "            sumaXY=0\n",
    "            sumaX=0\n",
    "            sumaY=0\n",
    "            sumaX2=0\n",
    "            for i in range(0,n):\n",
    "                sumaX=sumaX+X[i]\n",
    "                sumaY=sumaY+Y[i]\n",
    "                sumaXY=sumaXY+X[i]*Y[i]\n",
    "                sumaX2=sumaX2+X[i]*X[i]\n",
    "            print(sumaX/n, sumaY/n, sumaXY)\n",
    "            SXY=sumaXY-sumaX*sumaY/n\n",
    "            SXX=sumaX2-sumaX*sumaX/n\n",
    "            self.beta1=SXY/SXX\n",
    "            print(self.beta1)\n",
    "            self.beta0=(sumaY/n)-self.beta1*(sumaX/n)\n",
    "            print(self.beta0)\n",
    "            Estimados=[]\n",
    "            for x in X:\n",
    "                yE=x*self.beta1+self.beta0\n",
    "                Estimados.append(yE)\n",
    "            SSR=0\n",
    "            SST=0\n",
    "            for x in X:\n",
    "                SSR=SSR+(Y[X.index(x)]-Estimados[X.index(x)])*(Y[X.index(x)]-Estimados[X.index(x)])\n",
    "                SST=SST+(Y[X.index(x)]-sumaY/n)*(Y[X.index(x)]-sumaY/n)\n",
    "            self.R2=1-SSR/SST\n",
    "            self.R1=math.sqrt(self.R2)\n",
    "            #print(\"r2 = \",R2)\n",
    "            #print(\"r =\",R1)\n",
    "            print(Estimados)\n",
    "    def Predict(self, valor):\n",
    "        Y2=valor*self.beta1+self.beta0\n",
    "        return Y2\n",
    "    def PredictN(self, valores):\n",
    "        Ys=[]\n",
    "        for valor in valores:\n",
    "            Y2=int(valor)*self.beta1+self.beta0\n",
    "            Ys.append(Y2)\n",
    "        return Ys\n",
    "    def r2(): \n",
    "        print(\"r2 = \",self.R2)\n",
    "    def r():\n",
    "        R1=math.sqrt(self.R2)\n",
    "        print(\"r =\", self.R1)\n",
    "    def getAllRegParams(self):\n",
    "        parametros={'b0':self.beta0,'b1':self.beta1, 'r2': self.R2, 'r': self.R1 }\n",
    "        print(parametros)\n",
    "    @classmethod\n",
    "    def from_file(cls , path ):\n",
    "            print(\"\")#no me dio tiempo\n",
    "\n",
    "K=my_regresion(X,Y);\n",
    "print(X,Y)\n",
    "K.Predict(40)\n",
    "K.PredictN([40,30])\n",
    "K.getAllRegParams()\n",
    "\n",
    "        \n",
    "# hacemos un gráfico de los datos que hemos generado\n",
    "#plt.scatter(X,Y,label='data', color='blue')\n",
    "#plt.title('Datos'); \n"
   ]
  },
  {
   "cell_type": "code",
   "execution_count": null,
   "metadata": {},
   "outputs": [],
   "source": []
  }
 ],
 "metadata": {
  "kernelspec": {
   "display_name": "Python 3",
   "language": "python",
   "name": "python3"
  },
  "language_info": {
   "codemirror_mode": {
    "name": "ipython",
    "version": 3
   },
   "file_extension": ".py",
   "mimetype": "text/x-python",
   "name": "python",
   "nbconvert_exporter": "python",
   "pygments_lexer": "ipython3",
   "version": "3.8.5"
  }
 },
 "nbformat": 4,
 "nbformat_minor": 4
}
