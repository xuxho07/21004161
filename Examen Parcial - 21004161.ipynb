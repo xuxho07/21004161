{
 "cells": [
  {
   "cell_type": "markdown",
   "metadata": {},
   "source": [
    "## <font color=blue>Javier Antonio García Perdomo </font>\n",
    "## <font color=red>21004161</font>\n",
    "## Maestría en Data Science\n",
    "## <font color=green>Ciencia de Datos en Python V </font>\n",
    "## <font color=red>09/03/2021</font>\n",
    "# <h1><center><font color=green>Examen Parcial 1 </font>  "
   ]
  },
  {
   "cell_type": "markdown",
   "metadata": {},
   "source": [
    "1. Desarrolle en Python un programa el cual genere un código alfa numérico de 7 letras mayusculas y 7 números entetos, estos deben ser aleatorios, el código debe ser intercalado empezando por letras y cada numero debe ser de un dígito. \n",
    "2. Su programa debe ejecutarse siempre y esperar la tecla enter para crear un código nuevo, el programa solo debe detenerse cuando el usuario ingrese la palabra exit en mayusculas o minúsculas o combinado.\n",
    "3. Ademas de esto su programa debe separar todos los códigos que se generen en validos o no validos, un código se considera valido si la suma de los números que lo conforman es mayor a 30 y no es valido end caso contrario.\n",
    "4. Si un código es valido, este debe almacenarse en un diccionario el cual contenga la suma de los números enteros como llave y el código como valor, note que en una ejecución se pueden crear varios códigos.\n",
    "5. Por otro lado si el código no es valido, este deberá almacenarse en una lista.\n",
    "6. Al momento de que el usuario ingrese exit, el programa deberá desplegar el contenido del diccionario de códigos validos y la lista de códigos no válidos."
   ]
  },
  {
   "cell_type": "code",
   "execution_count": 8,
   "metadata": {},
   "outputs": [
    {
     "name": "stdout",
     "output_type": "stream",
     "text": [
      "C9C3C8J0R2U0A6\n",
      "28\n",
      "['C9C3C8J0R2U0A6']\n",
      "{}\n",
      "Presione <Enter> para generar nuevo codigo o \"EXIT\" para salir\n",
      "29    A4H6G2G1O6O2H8\n",
      "Presione <Enter> para generar nuevo codigo o \"EXIT\" para salir\n",
      "15    B7Z0L7R0Q1M0H0\n",
      "Presione <Enter> para generar nuevo codigo o \"EXIT\" para salir\n",
      "36    A8T7M0G0L9P9B3\n",
      "Presione <Enter> para generar nuevo codigo o \"EXIT\" para salir\n",
      "26    J5G5W0X4O6R6G0\n",
      "Presione <Enter> para generar nuevo codigo o \"EXIT\" para salir\n",
      "47    J6R8E6F7P4H9Q7\n",
      "Presione <Enter> para generar nuevo codigo o \"EXIT\" para salir\n",
      "40    E4X8H3V5H9U4A7\n",
      "Presione <Enter> para generar nuevo codigo o \"EXIT\" para salir\n",
      "45    E8W4C7N3V8M7V8\n",
      "Presione <Enter> para generar nuevo codigo o \"EXIT\" para salir\n",
      "33    A8K2V7S5A3N4K4\n",
      "Presione <Enter> para generar nuevo codigo o \"EXIT\" para salir\n",
      "31    S9G8Z6L0Z6A2A0\n",
      "Presione <Enter> para generar nuevo codigo o \"EXIT\" para salir\n",
      "30    Q2E6D9W1M0A7A5\n",
      "Presione <Enter> para generar nuevo codigo o \"EXIT\" para salir\n",
      "20    C3R0Q1Q3N4G6R3\n",
      "Presione <Enter> para generar nuevo codigo o \"EXIT\" para salir\n",
      "27    O9U1W1B0A7G6Y3\n",
      "Presione <Enter> para generar nuevo codigo o \"EXIT\" para salir\n",
      "12    I1Y3E0E2X6X0R0\n",
      "Presione <Enter> para generar nuevo codigo o \"EXIT\" para salirexit\n",
      "12    I1Y3E0E2X6X0R0\n",
      "['C9C3C8J0R2U0A6', 'A4H6G2G1O6O2H8', 'B7Z0L7R0Q1M0H0', 'J5G5W0X4O6R6G0', 'Q2E6D9W1M0A7A5', 'C3R0Q1Q3N4G6R3', 'O9U1W1B0A7G6Y3', 'I1Y3E0E2X6X0R0', 'I1Y3E0E2X6X0R0']\n",
      "['C9C3C8J0R2U0A6', 'A4H6G2G1O6O2H8', 'B7Z0L7R0Q1M0H0', 'J5G5W0X4O6R6G0', 'Q2E6D9W1M0A7A5', 'C3R0Q1Q3N4G6R3', 'O9U1W1B0A7G6Y3', 'I1Y3E0E2X6X0R0']\n",
      "{36: 'A8T7M0G0L9P9B3', 47: 'J6R8E6F7P4H9Q7', 40: 'E4X8H3V5H9U4A7', 45: 'E8W4C7N3V8M7V8', 33: 'A8K2V7S5A3N4K4', 31: 'S9G8Z6L0Z6A2A0'}\n"
     ]
    }
   ],
   "source": [
    "import random\n",
    "import string\n",
    "import re\n",
    "def generador_ID(size=7, chars=string.ascii_uppercase, digs = string.digits):\n",
    "     return ''.join(random.choice(chars)+random.choice(digs) for _ in range(size))\n",
    "x=generador_ID()\n",
    "codigos_no_validos=[]\n",
    "codigos_validos={}\n",
    "print(x)\n",
    "n=0\n",
    "for i in range(14):\n",
    "    if i%2==1:\n",
    "        n=n+int(x[i])\n",
    "if n>30:\n",
    "    codigos_validos[n]=x\n",
    "else:\n",
    "    codigos_no_validos.append(x)   \n",
    "print(n)\n",
    "print(codigos_no_validos)\n",
    "print(codigos_validos)\n",
    "key = \"CODIGO\"\n",
    "while (key.upper() != \"EXIT\"):\n",
    "    key = input('Presione <Enter> para generar nuevo codigo o \"EXIT\" para salir')\n",
    "    if key.upper() != \"EXIT\":\n",
    "        x=generador_ID() \n",
    "    n=0\n",
    "    for i in range(14):\n",
    "        if i%2==1:\n",
    "            n=n+int(x[i])\n",
    "    if n>30:\n",
    "        print(n,\"  \",x)\n",
    "        codigos_validos[n]=x\n",
    "    else:\n",
    "        print(n,\"  \",x)\n",
    "        codigos_no_validos.append(x)\n",
    "    if key.upper() == \"EXIT\" and n<=30:\n",
    "        print(codigos_no_validos)\n",
    "        codigos_no_validos.pop()     \n",
    "        \n",
    "print(codigos_no_validos)\n",
    "print(codigos_validos)  \n",
    "        \n",
    "        "
   ]
  },
  {
   "cell_type": "code",
   "execution_count": null,
   "metadata": {},
   "outputs": [],
   "source": []
  }
 ],
 "metadata": {
  "kernelspec": {
   "display_name": "Python 3",
   "language": "python",
   "name": "python3"
  },
  "language_info": {
   "codemirror_mode": {
    "name": "ipython",
    "version": 3
   },
   "file_extension": ".py",
   "mimetype": "text/x-python",
   "name": "python",
   "nbconvert_exporter": "python",
   "pygments_lexer": "ipython3",
   "version": "3.8.5"
  }
 },
 "nbformat": 4,
 "nbformat_minor": 4
}
