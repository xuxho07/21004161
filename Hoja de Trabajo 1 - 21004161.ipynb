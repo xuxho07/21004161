{
 "cells": [
  {
   "cell_type": "markdown",
   "metadata": {},
   "source": [
    "## <font color=blue>Javier Antonio García Perdomo </font>\n",
    "## <font color=red>21004161</font>\n",
    "## Maestría en Data Science\n",
    "## <font color=green>Ciencia de Datos en Python V </font>\n",
    "## <font color=red>14/02/2021</font>"
   ]
  },
  {
   "cell_type": "markdown",
   "metadata": {},
   "source": [
    "# <h1><center><font color=green>Hoja de trabajo 1 - Jupyter Notebooks, Markdown y Git</font>  "
   ]
  },
  {
   "cell_type": "markdown",
   "metadata": {},
   "source": [
    "## <h1><center>Version Control (Git)</center></h1>"
   ]
  },
  {
   "cell_type": "markdown",
   "metadata": {},
   "source": [
    "![Img Alt Text](data:image/png;base64,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)"
   ]
  },
  {
   "cell_type": "markdown",
   "metadata": {},
   "source": [
    "Los sistemas de control de versiones **_(VCS)_** son herramientas que se utilizan para realizar un seguimiento \n",
    "de los cambios en el código fuente (o para otras colecciones de archivos y carpetas). \n",
    "Esta herramienta ayuda a mantener un historial de cambios y facilita la colaboración. \n",
    "Los VCS mantienen metadatos acerca de quién creó cada instantánea, mensajes asociados, etc.\n",
    "Los VCS también realizan un seguimiento de los cambios en una carpeta y su contenido, encapsula todo el estado de \n",
    "los archivos o carpetas en un directorio de nivel superior. "
   ]
  },
  {
   "cell_type": "markdown",
   "metadata": {},
   "source": [
    "Los VCS modernos nos permiten responder preguntas como:"
   ]
  },
  {
   "cell_type": "markdown",
   "metadata": {},
   "source": [
    " -  ¿Quién escribió este módulo?\n",
    " -  ¿Quién y cuándo se editó esta linea de código? ¿Por qué fue editada?\n",
    " -  ¿por qué dejó de funcionar una prueba unitaria durante las últimas revisiones?"
   ]
  },
  {
   "cell_type": "markdown",
   "metadata": {},
   "source": [
    "### Modelo de datos de Git\n",
    "\n",
    "Hay muchos enfoques necesarios que se pueden adoptar para el control de versiones. El modelo de Git está pensado para habilitar todas las buenas características del control de versiones, como por ejemplo:\n",
    "\n",
    " - mantener el historial\n",
    " - dar soporte a las ramas \n",
    " - permitir la colaboración\n",
    "\n",
    "#### Instantáneas _(Snapshots)_\n",
    "\n",
    "Una serie de instantáneas es como Git modela el historial de una colección de archivos y carpetas dentro de algún directorio de nivel superior. \n",
    "Terminología básica de Git\n",
    " - \"blob\" un archivo que es solo un montón de bytes. \n",
    " - \"árbol\" un directorio que asigna nombres a blobs o árboles (los directorios pueden contener otros directorios).\n",
    " Una instantánea es el árbol de nivel superior que se está rastreando. \n",
    " \n",
    "#### Historial de modelado: relacionar instantáneas\n",
    "\n",
    "Un modelo simple que utilizan los sistema de control de versiones para relacionar las instantáneassería es tener una historia lineal, que es una lista de instantáneas en orden de tiempo. Pero Git no usa un modelo tan simple como este.\n",
    "\n",
    "Git en cambio utiliza un historial es un gráfico acíclico dirigido **(DAG)** de instantáneas. Esto significa que cada instantánea en Git se refiere a un conjunto de \"padres\", las instantáneas que la precedieron. Esto se debee a que una instantánea puede descender de varios padres, por ejemplo, debido a la fusión de dos ramas paralelas del desarrollo.\n",
    "\n",
    "#### Objetos y direccionamiento de contenido\n",
    "\n",
    "Los blobs, los árboles y las confirmaciones se unifican de la siguiente manera: todos son objetos. \n",
    "Cuando hacen referencia a otros objetos, en realidad no los contienen en su representación en el disco, sino que tienen una referencia a ellos por su hash.\n",
    "\n",
    "#### Referencias\n",
    "\n",
    "Todas las instantáneas se pueden identificar por su hash SHA-1. Eso sin embargo es un inconveniente, porque nosotros los seres humanos no somos buenos para recordar cadenas de 40 caracteres hexadecimales. Para este problema Git utiliza las referencias, que son indicadores de confirmaciones. A diferencia de los objetos, que son inmutables, las referencias son mutables (se pueden actualizar para señalar una nueva confirmación). Por ejemplo, la referencia maestra generalmente apunta a la última confirmación en la rama principal de desarrollo. Con esto, Git puede usar nombres legibles por nosotros los humanos para referirse a una instantánea en particular en el historial, en lugar de una cadena hexadecimal larga.\n",
    "\n",
    "#### Repositorios\n",
    "\n",
    "También podemos definir los repositorios de Git: que son los objetos de datos y las referencias. Todos los comandos de git se asignan a alguna manipulación del DAG de confirmación agregando objetos y agregando / actualizando referencias."
   ]
  },
  {
   "cell_type": "markdown",
   "metadata": {},
   "source": [
    "\n",
    "### Área de prepareción _(Staging area)_\n",
    "\n",
    "Parte de la interfaz para crear confirmaciones en el área de preparación.\n",
    "\n",
    "Se puede imaginar la implementación de instantáneas como tener un comando \"crear instantánea\" que cree una nueva instantánea basada en el estado actual del directorio de trabajo. Algunas herramientas de control de versiones funcionan así, pero no Git. Hay muchos escenarios donde esta implementación no funciona. Git se adapta a estos escenarios al permitirle especificar qué modificaciones deben incluirse en la siguiente instantánea a través de un mecanismo llamado \"área de preparación\"."
   ]
  },
  {
   "cell_type": "markdown",
   "metadata": {},
   "source": [
    "### Interfaz de línea de comandos de Git\n",
    "\n",
    "Algunos comandos importantes a continuación: "
   ]
  },
  {
   "cell_type": "markdown",
   "metadata": {},
   "source": [
    "#### Básicos\n",
    "| Comando | Descripción |\n",
    "| :--- | :---: |\n",
    "| **git help _<_command _>_** | Obtener ayuda para un comando git | \n",
    "| **git init** |crea un nuevo repositorio de git, con datos almacenados en el directorio .git |\n",
    "| **git status** | te dice lo que está pasando  | \n",
    "| **git add _<_filename _>_** | agrega archivos al área de preparación  |\n",
    "| **git checkout _<_revision _>_** | actualiza HEAD y la rama actual |"
   ]
  },
  {
   "cell_type": "markdown",
   "metadata": {},
   "source": [
    "#### Ramificación y fusión \n",
    "| Comando | Descripción |\n",
    "| :--- | :---: |\n",
    "| **git branch** | muestra ramas | \n",
    "| **git branch _<_name _>_** | crea una rama  |\n",
    "| **git checkout -b _<_name _>_**  | crea una rama y cambia a ella  | \n",
    "| **git merge _<_revision _>_** | se fusiona en la rama actual   |\n",
    "| **git rebase** | Rebase de un conjunto de parches en una nueva base.  |"
   ]
  },
  {
   "cell_type": "markdown",
   "metadata": {},
   "source": [
    "#### Git avanzado \n",
    "| Comando | Descripción |\n",
    "| :--- | :---: |\n",
    "| **git config** | Git es altamente personalizable  | \n",
    "| **git add -p** | puesta en escena interactiva   |\n",
    "| **git blame**  | mostrar quién editó por última vez qué línea   | \n",
    "| **git bisect** | historial de búsqueda binaria (como para regresiones)    |\n",
    "| **.gitignore** | especificar archivos intencionalmente sin seguimiento para ignorar   |"
   ]
  },
  {
   "cell_type": "markdown",
   "metadata": {},
   "source": [
    "### Recursos\n",
    "\n",
    " - [Pro Git](https://git-scm.com/book/en/v2) Lectura muy recomendable. En los primero capítulos (1 a 5) se muestra lo básico para usar Git competentemente, comprende el modelo de datos. Los últimos capítulos tienen material más avanzado e interesante.\n",
    "\n",
    " - [Oh Shit, Git!?!](https://ohshitgit.com) es una breve guía sobre cómo recuperarse de algunos errores comunes de Git.\n",
    "\n",
    " - [Git for Computer Scientists](https://eagain.net/articles/git-for-computer-scientists/) es una breve explicación del modelo de datos de Git, con menos pseudocódigo y diagramas más sofisticados que estas notas de clase.\n",
    " \n",
    " - [Git from the Bottom Up](https://jwiegley.github.io/git-from-the-bottom-up/)detalles de implementación de Git más allá del modelo de datos, para los curiosos.\n",
    " \n",
    " - [Cómo explicar git en palabras simples](https://xosh.org/explain-git-in-simple-words/)\n",
    " \n",
    " - [Learn Git Branching](https://learngitbranching.js.org) es un juego de navegador que te enseña Git."
   ]
  },
  {
   "cell_type": "markdown",
   "metadata": {},
   "source": [
    "## Bibliografía\n",
    "\n",
    "[Version Control (Git)](https://missing.csail.mit.edu/2020/version-control/) \"https://missing.csail.mit.edu/2020/version-control/\""
   ]
  },
  {
   "cell_type": "code",
   "execution_count": null,
   "metadata": {},
   "outputs": [],
   "source": []
  }
 ],
 "metadata": {
  "kernelspec": {
   "display_name": "Python 3",
   "language": "python",
   "name": "python3"
  },
  "language_info": {
   "codemirror_mode": {
    "name": "ipython",
    "version": 3
   },
   "file_extension": ".py",
   "mimetype": "text/x-python",
   "name": "python",
   "nbconvert_exporter": "python",
   "pygments_lexer": "ipython3",
   "version": "3.8.5"
  }
 },
 "nbformat": 4,
 "nbformat_minor": 4
}
