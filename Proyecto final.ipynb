{
 "cells": [
  {
   "cell_type": "markdown",
   "metadata": {},
   "source": [
    "## <font color=blue>Javier Antonio García Perdomo </font>\n",
    "## <font color=red>21004161</font>\n",
    "## Maestría en Data Science\n",
    "## <font color=green>Ciencia de Datos en Python V </font>\n",
    "## <font color=red>05/03/2021</font>"
   ]
  },
  {
   "cell_type": "markdown",
   "metadata": {},
   "source": [
    "# <h1><center><font color=green>Proyecto Final</font>  "
   ]
  },
  {
   "cell_type": "markdown",
   "metadata": {},
   "source": [
    "<b>Descripción</b>: El proyecto consiste en aplicar los conocimientos aprendidos en clase (y apoyándose de referencias adicionales útiles) para crear modelos predictivos de regresión lineal uni-variable sencillos de la forma:\n",
    "<center> y = β0 + β1 ∗ x"
   ]
  },
  {
   "cell_type": "markdown",
   "metadata": {},
   "source": [
    "A continuación se le listan los pasos que debería seguir para poder desarrollar su proyecto:\n",
    "\n",
    "    1. Crear un entorno de anaconda con los paquetes que considere necesarios."
   ]
  },
  {
   "cell_type": "code",
   "execution_count": 42,
   "metadata": {},
   "outputs": [],
   "source": [
    "import numpy as np\n",
    "import os\n",
    "import pandas as pd\n",
    "import random"
   ]
  },
  {
   "cell_type": "markdown",
   "metadata": {},
   "source": [
    "    2. Usando sclicing con NumPy separar los datos en 2 datasets: entrenamiento (80 %) y validación y pruebas(20 %)."
   ]
  },
  {
   "cell_type": "code",
   "execution_count": 83,
   "metadata": {},
   "outputs": [
    {
     "name": "stdout",
     "output_type": "stream",
     "text": [
      "Cantidad de datos para entrenamiento:  1168\n",
      "Cantidad de datos para validación y pruebas:  292\n"
     ]
    }
   ],
   "source": [
    "data = np.load(os.path.expanduser(\"~/Desktop/proyecto_training_data.npy\"))\n",
    "# Para entender los datos\n",
    "# np.savetxt(\"test.csv\", data, delimiter=\",\")\n",
    "cantidad_datos=np.count_nonzero(data[:,0])\n",
    "veinteporciento=int(cantidad_datos/5)\n",
    "\n",
    "indices_validacion=random.sample(range(0, cantidad_datos), veinteporciento)\n",
    "\n",
    "indices_entrenamiento=[]\n",
    "for i in range(0,cantidad_datos):\n",
    "    if i not in indices_validacion:\n",
    "        indices_entrenamiento.append(i)\n",
    "\n",
    "data_entrenamiento=[]\n",
    "for i in indices_entrenamiento:\n",
    "    data_entrenamiento.append(data[i])\n",
    "print(\"Cantidad de datos para entrenamiento: \",len(data_entrenamiento))\n",
    "    \n",
    "data_validacion=[]\n",
    "for i in indices_validacion:\n",
    "    data_validacion.append(data[i])\n",
    "print(\"Cantidad de datos para validación y pruebas: \",len(data_validacion))"
   ]
  },
  {
   "cell_type": "markdown",
   "metadata": {},
   "source": [
    "   3. Análisis exploratorio de datos: Para cada variable en el dataset calcular ((usando numpy o pandas):\n",
    "* media\n",
    "* valor máximo\n",
    "* valor mínimo\n",
    "* rango(peak to peak, no el rango del tensor que por ser vector sabemos que es 1) \n",
    "* desviación estándar."
   ]
  },
  {
   "cell_type": "markdown",
   "metadata": {},
   "source": [
    "________________________________________________________________________\n",
    "Y = SalePrice  .   # precio de venta de las propiedades (en $ dólares)"
   ]
  },
  {
   "cell_type": "code",
   "execution_count": 76,
   "metadata": {},
   "outputs": [
    {
     "name": "stdout",
     "output_type": "stream",
     "text": [
      "El precio medio de venta de las propiedades en dólares es: $ 180921.2\n",
      "El valor de venta máximo es: $ 755000.0\n",
      "El valor de venta mínimo es: $ 34900.0\n",
      "Por lo tanto el rango de venta es: $ 720100.0\n",
      "La desviación estándar para el precio de venta es: $ 79415.29\n"
     ]
    }
   ],
   "source": [
    "Y_SalePrice=data[:,0]\n",
    "print(\"El precio medio de venta de las propiedades es: $\",\n",
    "      round(np.average(Y_SalePrice),2))\n",
    "print(\"El valor de venta máximo es: $\", round(np.max(Y_SalePrice),2))\n",
    "print(\"El valor de venta mínimo es: $\", round(np.min(Y_SalePrice),2))\n",
    "print(\"Por lo tanto el rango de venta es: $\", round(np.ptp(Y_SalePrice),2))\n",
    "print(\"La desviación estándar para el precio de venta es: $\", round(np.std(Y_SalePrice),2))"
   ]
  },
  {
   "cell_type": "markdown",
   "metadata": {},
   "source": [
    "________________________________________________________________________\n",
    "X1 = OverallQual    .   # Calidad general del material y el acabado, califica el material general y el acabado de la casa.\n",
    "- 10\tVery Excellent\n",
    "- 9\tExcellent\n",
    "- 8\tVery Good\n",
    "- 7\tGood\n",
    "- 6\tAbove Average\n",
    "- 5\tAverage\n",
    "- 4\tBelow Average\n",
    "- 3\tFair\n",
    "- 2\tPoor\n",
    "- 1\tVery Poor"
   ]
  },
  {
   "cell_type": "code",
   "execution_count": 97,
   "metadata": {},
   "outputs": [
    {
     "name": "stdout",
     "output_type": "stream",
     "text": [
      "- El promedio del 'Material general y calidad de acabados', en escala de 1 a 10, es de: 6.099\n",
      "- El valor máximo para 'Material general y calidad de acabados' es:  10.0\n",
      "- El valor mínimo para 'Material general y calidad de acabados' es:  1.0\n",
      "- Por lo tanto el rango para 'Material general y calidad de acabados' es:  9.0\n",
      "- La desviación estándar para 'Material general y calidad de acabados' es:  1.38\n"
     ]
    }
   ],
   "source": [
    "X1_OverallQual=data[:,1]\n",
    "print(\"- El promedio del 'Material general y calidad de acabados', en escala de 1 a 10, es de:\",\n",
    "      round(np.average(X1_OverallQual),3))\n",
    "print(\"- El valor máximo para 'Material general y calidad de acabados' es: \", round(np.max(X1_OverallQual),2))\n",
    "print(\"- El valor mínimo para 'Material general y calidad de acabados' es: \", round(np.min(X1_OverallQual),2))\n",
    "print(\"- Por lo tanto el rango para 'Material general y calidad de acabados' es: \", round(np.ptp(X1_OverallQual),2))\n",
    "print(\"- La desviación estándar para 'Material general y calidad de acabados' es: \", round(np.std(X1_OverallQual),2))"
   ]
  },
  {
   "cell_type": "markdown",
   "metadata": {},
   "source": [
    "________________________________________________________________________\n",
    "X2 = 1stFlrSF     .    #Pies cuadrados del primer piso"
   ]
  },
  {
   "cell_type": "code",
   "execution_count": 98,
   "metadata": {},
   "outputs": [
    {
     "name": "stdout",
     "output_type": "stream",
     "text": [
      "- El promedio del área del primer piso de las propiedades es de: 1162.63 ft²\n",
      "- El área máxima del primer piso de las propiedades es:  4692.0 ft²\n",
      "- El área mínima del primer piso de las propiedades es:  334.0 ft²\n",
      "- Por lo tanto el rango para el área del primer piso de las propiedades es:  4358.0 ft²\n",
      "- La desviación estándar para el área del primer piso de las propiedades es:  386.46 ft²\n"
     ]
    }
   ],
   "source": [
    "X2_1stFlrSF=data[:,2]\n",
    "print(\"- El promedio del área del primer piso de las propiedades es de:\",\n",
    "      round(np.average(X2_1stFlrSF),2),\"ft²\")\n",
    "print(\"- El área máxima del primer piso de las propiedades es: \", round(np.max(X2_1stFlrSF),2),\"ft²\")\n",
    "print(\"- El área mínima del primer piso de las propiedades es: \", round(np.min(X2_1stFlrSF),2),\"ft²\")\n",
    "print(\"- Por lo tanto el rango para el área del primer piso de las propiedades es: \", round(np.ptp(X2_1stFlrSF),2),\"ft²\")\n",
    "print(\"- La desviación estándar para el área del primer piso de las propiedades es: \", round(np.std(X2_1stFlrSF),2),\"ft²\")"
   ]
  },
  {
   "cell_type": "markdown",
   "metadata": {},
   "source": [
    "________________________________________________________________________\n",
    "X3 = TotRmsAbvGrd   .  # Total de habitaciones sobre rasante (sin incluir baños)"
   ]
  },
  {
   "cell_type": "code",
   "execution_count": 99,
   "metadata": {},
   "outputs": [
    {
     "name": "stdout",
     "output_type": "stream",
     "text": [
      "- El promedio del número de habitaciones sobre rasante es de: 6.52\n",
      "- El máximo número de habitaciones sobre rasante para una propiedad es de:  14.0\n",
      "- El mínimo número de habitaciones sobre rasante para una propiedad es de:  2.0\n",
      "- El rango para el número de habitaciones sobre rasante de las propiedades es:  12.0\n",
      "- La desviación estándar para el # de habitaciones sobre rasante de las propiedades es:  1.62\n"
     ]
    }
   ],
   "source": [
    "X3_TotRmsAbvGrd=data[:,3]\n",
    "print(\"- El promedio del número de habitaciones sobre rasante es de:\",\n",
    "      round(np.average(X3_TotRmsAbvGrd),2))\n",
    "print(\"- El máximo número de habitaciones sobre rasante para una propiedad es de: \", \n",
    "      round(np.max(X3_TotRmsAbvGrd),2))\n",
    "print(\"- El mínimo número de habitaciones sobre rasante para una propiedad es de: \", \n",
    "      round(np.min(X3_TotRmsAbvGrd),2))\n",
    "print(\"- El rango para el número de habitaciones sobre rasante de las propiedades es: \", \n",
    "      round(np.ptp(X3_TotRmsAbvGrd),2))\n",
    "print(\"- La desviación estándar para el # de habitaciones sobre rasante de las propiedades es: \", \n",
    "      round(np.std(X3_TotRmsAbvGrd),2))"
   ]
  },
  {
   "cell_type": "markdown",
   "metadata": {},
   "source": [
    "________________________________________________________________________\n",
    "X4 = YearBuilt   .    # año de la fecha de construcción original"
   ]
  },
  {
   "cell_type": "code",
   "execution_count": 100,
   "metadata": {},
   "outputs": [
    {
     "name": "stdout",
     "output_type": "stream",
     "text": [
      "- El promedio del año de las fechas de construcción original es: 1971.27\n",
      "- El año más reciente para las fechas de construcción original es:  2010.0\n",
      "- El año más antiguo para las fechas de construcción original es:  1872.0\n",
      "- El rango para el año de las fechas de construcción original es:  138.0\n",
      "- La desviación estándar para el año de las fechas de construcción original es:  30.19\n"
     ]
    }
   ],
   "source": [
    "X4_YearBuilt=data[:,4]\n",
    "print(\"- El promedio del año de las fechas de construcción original es:\",\n",
    "      round(np.average(X4_YearBuilt),2))\n",
    "print(\"- El año más reciente para las fechas de construcción original es: \", round(np.max(X4_YearBuilt),2))\n",
    "print(\"- El año más antiguo para las fechas de construcción original es: \", round(np.min(X4_YearBuilt),2))\n",
    "print(\"- El rango para el año de las fechas de construcción original es: \", round(np.ptp(X4_YearBuilt),2))\n",
    "print(\"- La desviación estándar para el año de las fechas de construcción original es: \", round(np.std(X4_YearBuilt),2))"
   ]
  },
  {
   "cell_type": "markdown",
   "metadata": {},
   "source": [
    "________________________________________________________________________\n",
    "X5 = LotFrontage"
   ]
  },
  {
   "cell_type": "code",
   "execution_count": null,
   "metadata": {},
   "outputs": [],
   "source": [
    "X5_LotFrontage=data[:,5]"
   ]
  },
  {
   "cell_type": "code",
   "execution_count": null,
   "metadata": {},
   "outputs": [],
   "source": [
    "mediaX1=np.average(data[:,1])\n",
    "print(mediaX1)\n",
    "mediaX2=np.average(data[:,2])\n",
    "print(mediaX2)\n",
    "mediaX3=np.average(data[:,3])\n",
    "print(mediaX3)\n",
    "mediaX4=np.average(data[:,4])\n",
    "print(mediaX4)\n",
    "mediaX5=np.average(data[:,5])\n",
    "print(mediaX5)"
   ]
  }
 ],
 "metadata": {
  "kernelspec": {
   "display_name": "Python 3",
   "language": "python",
   "name": "python3"
  },
  "language_info": {
   "codemirror_mode": {
    "name": "ipython",
    "version": 3
   },
   "file_extension": ".py",
   "mimetype": "text/x-python",
   "name": "python",
   "nbconvert_exporter": "python",
   "pygments_lexer": "ipython3",
   "version": "3.8.5"
  }
 },
 "nbformat": 4,
 "nbformat_minor": 4
}

