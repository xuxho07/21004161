{
 "cells": [
  {
   "cell_type": "markdown",
   "metadata": {},
   "source": [
    "## <font color=blue>Javier Antonio García Perdomo </font>\n",
    "## <font color=red>21004161</font>\n",
    "## Maestría en Data Science\n",
    "## <font color=green>Ciencia de Datos en Python V </font>\n",
    "## <font color=red>21/02/2021</font>"
   ]
  },
  {
   "cell_type": "markdown",
   "metadata": {},
   "source": [
    "# <h1><center><font color=green>Hoja de trabajo 2 - Sintaxis, Listas y Tuplas</font>  "
   ]
  },
  {
   "cell_type": "markdown",
   "metadata": {},
   "source": [
    "## Parte 1 - Programación y Sintaxis"
   ]
  },
  {
   "cell_type": "markdown",
   "metadata": {},
   "source": [
    "1. Haga un programa en Python que reciba de parámetro un número de segundos y que despliegue en pantalla, las horas, minutos y segundos que representan."
   ]
  },
  {
   "cell_type": "code",
   "execution_count": 1,
   "metadata": {},
   "outputs": [
    {
     "name": "stdout",
     "output_type": "stream",
     "text": [
      "Ingrese el número de segundos:2\n",
      "El valor ingresado es correcto. Segundos =  2\n",
      "2\n",
      "Horas= 0\n",
      "Minutos= 0\n",
      "Segundos= 2\n"
     ]
    }
   ],
   "source": [
    "def check_input(x):\n",
    "    try:\n",
    "        #Convertir a entero\n",
    "        valor = int(x)\n",
    "        if valor>0:\n",
    "            print(\"El valor ingresado es correcto. Segundos = \", valor)\n",
    "        else:\n",
    "            print(\"El valor ingresado no es un número mayor a 0\")\n",
    "    except ValueError:\n",
    "        try:\n",
    "            # Convertir a decimal\n",
    "            val = float(x)\n",
    "            print(\"El valor ingresado no es un entero.\")\n",
    "        except ValueError:\n",
    "            print(\"El valor ingresado no es un número entero.\")\n",
    "        \n",
    "segundos=input(\"Ingrese el número de segundos:\")\n",
    "check_input(segundos)\n",
    "\n",
    "if segundos.isdigit:\n",
    "    segundos=int(segundos)\n",
    "    if segundos>0:\n",
    "        check2=1\n",
    "    else:\n",
    "        check2=0\n",
    "else:\n",
    "    check2=0\n",
    "\n",
    "if check2==1:\n",
    "    print(segundos)\n",
    "    horas=int(int(segundos)/3600)\n",
    "    minutos=int((int(segundos)%3600)/60)\n",
    "    segundos2=int((int(segundos)%3600)%60)\n",
    "    print(\"Horas=\",horas)\n",
    "    print(\"Minutos=\",minutos)\n",
    "    print(\"Segundos=\",segundos2)\n",
    "else:\n",
    "    print(\"Debe ingresar un número entero mayor a 0\")\n"
   ]
  },
  {
   "cell_type": "markdown",
   "metadata": {},
   "source": [
    "2. Haga una función en Python que dado un número entre 1 y 20, y un caracter cualquiera despliegue cuatro patrones triangulares."
   ]
  },
  {
   "cell_type": "code",
   "execution_count": 22,
   "metadata": {},
   "outputs": [
    {
     "name": "stdout",
     "output_type": "stream",
     "text": [
      "Ingrese un número de 1 a 20:5\n",
      "Ingrese un caracter: (Si ingresa más, se utilizará sólo el primero)*\n",
      "*\n",
      "**\n",
      "***\n",
      "****\n",
      "*****\n",
      " \n",
      "*****\n",
      "****\n",
      "***\n",
      "**\n",
      "*\n",
      " \n",
      "     *\n",
      "    **\n",
      "   ***\n",
      "  ****\n",
      " *****\n",
      " \n",
      " *****\n",
      "  ****\n",
      "   ***\n",
      "    **\n",
      "     *\n",
      " \n"
     ]
    }
   ],
   "source": [
    "number=int(input(\"Ingrese un número de 1 a 20:\"))\n",
    "caracter=input(\"Ingrese un caracter: (Si ingresa más, se utilizará sólo el primero)\")\n",
    "x=1\n",
    "for i in range(number):\n",
    "    print(caracter[0]*x)\n",
    "    x=x+1\n",
    "print(\" \")\n",
    "x=number\n",
    "for i in range(number):\n",
    "    print(caracter[0]*x)\n",
    "    x=x-1\n",
    "print(\" \")   \n",
    "x=1\n",
    "for i in range(number):\n",
    "    print(\" \"*(number-x),caracter[0]*x)\n",
    "    x=x+1\n",
    "print(\" \")\n",
    "x=0\n",
    "for i in range(number):\n",
    "    print(\" \"*x,caracter[0]*(number-x))\n",
    "    x=x+1\n",
    "print(\" \")"
   ]
  },
  {
   "cell_type": "markdown",
   "metadata": {},
   "source": [
    "3. Haga un programa en Python que la fecha de nacimiento de una persona (puede ingresar por separado cada valor, es decir pedir primero d ́ıa, luego mes y luego an ̃o), despliegue la edad de la persona en an ̃os, meses y d ́ıas. Su resultado puede ser aproximado."
   ]
  },
  {
   "cell_type": "code",
   "execution_count": 34,
   "metadata": {},
   "outputs": [
    {
     "name": "stdout",
     "output_type": "stream",
     "text": [
      "Por favor ingrese su fecha de nacimiento como se le solicita:\n",
      "Ingrese su año de nacimiento:1990\n",
      "Ingrese su mes de nacimiento (del 1 al 12):10\n",
      "Ingrese su día de nacimiento:20\n",
      "Su edad es:  30 años,  4 meses, y  13 días, \n"
     ]
    }
   ],
   "source": [
    "print(\"Por favor ingrese su fecha de nacimiento como se le solicita:\")\n",
    "year=int(input(\"Ingrese su año de nacimiento:\"))\n",
    "month=int(input(\"Ingrese su mes de nacimiento (del 1 al 12):\"))\n",
    "day=int(input(\"Ingrese su día de nacimiento:\"))\n",
    "import datetime\n",
    "fecha_nacimiento = datetime.date(year, month, day)\n",
    "fecha_hoy = datetime.date(2021, 2, 21)\n",
    "time_difference = end_date - fecha_nacimiento\n",
    "age = time_difference.days/365\n",
    "months=(time_difference.days%365)/30\n",
    "days=int((time_difference.days%365)%30)\n",
    "print(\"Su edad es: \", int(age),\"años, \", int(months),\"meses, y \",int(days),\"días, aproximadamente\")"
   ]
  },
  {
   "cell_type": "markdown",
   "metadata": {},
   "source": [
    "##  Parte #2 - (Estructuras de Datos)"
   ]
  },
  {
   "cell_type": "markdown",
   "metadata": {},
   "source": [
    "1. Escriba una función en Python que dada una tupla de elementos (números o letras) esta se convierta a un string."
   ]
  },
  {
   "cell_type": "code",
   "execution_count": 45,
   "metadata": {},
   "outputs": [
    {
     "name": "stdout",
     "output_type": "stream",
     "text": [
      "xuxho\n",
      "1234567890\n",
      "A2C4E6G8I0\n"
     ]
    }
   ],
   "source": [
    "def TuplasAString (x):\n",
    "    string =  ''.join(tuple(map( str , x )))\n",
    "    return string\n",
    "\n",
    "#Ejemplo1\n",
    "print(TuplasAString(('x', 'u', 'x', 'h', 'o')))\n",
    "#Ejemplo2\n",
    "print(TuplasAString((1, 2, 3, 4, 5, 6, 7, 8, 9, 0)))\n",
    "#Ejemplo3\n",
    "print(TuplasAString((\"A\", 2, \"C\", 4, \"E\", 6, \"G\", 8, \"I\", 0)))\n"
   ]
  },
  {
   "cell_type": "markdown",
   "metadata": {},
   "source": [
    "2. Cree un programa en Python que dada una lista de tuplas, elimine las tuplas que están vacías."
   ]
  },
  {
   "cell_type": "code",
   "execution_count": 50,
   "metadata": {},
   "outputs": [
    {
     "name": "stdout",
     "output_type": "stream",
     "text": [
      "[('X',), ('a', 'b'), ('a', 'b', 'c'), 'd']\n"
     ]
    }
   ],
   "source": [
    "def RemoverVacias(tuplas): \n",
    "    tuplas = [i for i in tuplas if i] \n",
    "    return tuplas \n",
    "\n",
    "#Ejemplo\n",
    "tupla=[(), (), ('X',), ('a', 'b'), ('a' , 'b', 'c'), ('d')]\n",
    "print(RemoverVacias(tupla)) "
   ]
  },
  {
   "cell_type": "markdown",
   "metadata": {},
   "source": [
    "3. Cree una función en Python que dada una tupla de tuplas con números, produzca una tupla\n",
    "con el promedio de cada tupla individual."
   ]
  },
  {
   "cell_type": "code",
   "execution_count": 53,
   "metadata": {},
   "outputs": [
    {
     "data": {
      "text/plain": [
       "(10.5, 44.0, 58.0)"
      ]
     },
     "execution_count": 53,
     "metadata": {},
     "output_type": "execute_result"
    }
   ],
   "source": [
    "def PromediosdeTuplas(tuplas):\n",
    "    emptytuple=()\n",
    "    for i in tuplas:\n",
    "        sum=0\n",
    "        for x in i:\n",
    "            sum=sum+x\n",
    "        i_average=sum/len(i)\n",
    "        emptytuple = emptytuple + (i_average,)\n",
    "    return emptytuple\n",
    "        \n",
    "#Ejemplo\n",
    "PromediosdeTuplas(((10, 10, 10, 12), (30, 45, 56, 45), (81, 80, 39, 32)))\n"
   ]
  },
  {
   "cell_type": "code",
   "execution_count": null,
   "metadata": {},
   "outputs": [],
   "source": []
  }
 ],
 "metadata": {
  "kernelspec": {
   "display_name": "Python 3",
   "language": "python",
   "name": "python3"
  },
  "language_info": {
   "codemirror_mode": {
    "name": "ipython",
    "version": 3
   },
   "file_extension": ".py",
   "mimetype": "text/x-python",
   "name": "python",
   "nbconvert_exporter": "python",
   "pygments_lexer": "ipython3",
   "version": "3.8.5"
  }
 },
 "nbformat": 4,
 "nbformat_minor": 4
}
