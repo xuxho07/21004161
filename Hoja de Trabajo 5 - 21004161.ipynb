{
 "cells": [
  {
   "cell_type": "markdown",
   "metadata": {},
   "source": [
    "### <font color=blue>Javier Antonio García Perdomo </font>\n",
    "### <font color=red>21004161</font>\n",
    "### Maestría en Data Science\n",
    "### <font color=green>Ciencia de Datos en Python V </font>\n",
    "### <font color=red>29/03/2021</font>"
   ]
  },
  {
   "cell_type": "markdown",
   "metadata": {},
   "source": [
    "### <h1><center><font color=green>Hoja de trabajo 5 - (Numpy, Pandas, Vectorización)</font>  "
   ]
  },
  {
   "cell_type": "markdown",
   "metadata": {},
   "source": [
    "### Numpy"
   ]
  },
  {
   "cell_type": "markdown",
   "metadata": {},
   "source": [
    "### Ejercicio 1 - Crear un conjunto de datos lineal\n",
    "* Crear un conjunto de datos simple que consta de una sola característica y una etiqueta de la siguiente manera:\n",
    "1. Asigne una secuencia de números enteros del 6 al 20 (incluyendo 20) a un arreglo de NumPy llamado caracteristica.\n",
    "2. Asigne 15 valores a un arreglo de NumPy llamado etiqueta de manera que:\n",
    "    etiqueta = (3) (caracteristica) + 4"
   ]
  },
  {
   "cell_type": "code",
   "execution_count": 7,
   "metadata": {},
   "outputs": [
    {
     "name": "stdout",
     "output_type": "stream",
     "text": [
      "[ 6  7  8  9 10 11 12 13 14 15 16 17 18 19 20]\n",
      "[22 25 28 31 34 37 40 43 46 49 52 55 58 61 64]\n"
     ]
    }
   ],
   "source": [
    "import numpy as np\n",
    "\n",
    "caracteristica=np.arange(6,21,1)\n",
    "etiqueta=[]\n",
    "for i in caracteristica:\n",
    "    et=3*i + 4\n",
    "    etiqueta.append(et)\n",
    "etiqueta=np.array(etiqueta)\n",
    "print(caracteristica)\n",
    "print(etiqueta)"
   ]
  },
  {
   "cell_type": "markdown",
   "metadata": {},
   "source": [
    "### Ejercicio 2 - agregar ruido al conjunto de datos\n",
    "* Inserte un ruido aleatorio en cada elemento de la matriz etiqueta que ya creó. Para ser más precisos, modifique cada valor asignado a etiqueta agregando un valor \"floating-point\" aleatorio diferente entre -2 y +2.\n",
    "No utilice broadcasting. En su lugar, cree un arreglo de ruido que tenga la misma dimensión que etiqueta.\n"
   ]
  },
  {
   "cell_type": "code",
   "execution_count": 9,
   "metadata": {},
   "outputs": [
    {
     "name": "stdout",
     "output_type": "stream",
     "text": [
      "[ 0.6604373   1.5984567   1.81807683  1.5710748  -0.77695908  0.24644875\n",
      " -1.40373086  1.81587619 -1.84280384 -0.91918071  0.86930833  1.37384845\n",
      "  1.25466314 -1.04875416 -0.84100537]\n"
     ]
    }
   ],
   "source": [
    "ruido=np.random.uniform(low=-2.0, high=2.0, size=(len(etiqueta),))\n",
    "print(ruido)"
   ]
  },
  {
   "cell_type": "code",
   "execution_count": 10,
   "metadata": {},
   "outputs": [
    {
     "name": "stdout",
     "output_type": "stream",
     "text": [
      "[22.6604373  26.5984567  29.81807683 32.5710748  33.22304092 37.24644875\n",
      " 38.59626914 44.81587619 44.15719616 48.08081929 52.86930833 56.37384845\n",
      " 59.25466314 59.95124584 63.15899463]\n"
     ]
    }
   ],
   "source": [
    "etiquetaruido=etiqueta+ruido\n",
    "print(etiquetaruido)"
   ]
  },
  {
   "cell_type": "markdown",
   "metadata": {},
   "source": [
    "### Pandas"
   ]
  },
  {
   "cell_type": "markdown",
   "metadata": {},
   "source": [
    "### Ejercicio 3 - Crear un DataFrame\n",
    "* Hacer lo siguiente:\n",
    "1. Cree un pandas DataFrame de 10x3 (10 filas x 3 columnas) en el que las columnas se denominen \"Data Warehouse\", \"Python in Data Science\", y \"Estadistica Aplicada\". Llene cada una de las 30 celdas del DataFrame con un número entero aleatorio entre 0 y 100, incluyendo 100."
   ]
  },
  {
   "cell_type": "code",
   "execution_count": 19,
   "metadata": {},
   "outputs": [],
   "source": [
    "import pandas as pd\n",
    "import random\n",
    "data={\"Data Warehouse\": random.sample(range(0, 101), 10),\n",
    "      \"Python in Data Science\" :random.sample(range(0, 101), 10),\n",
    "      \"Estadistica Aplicada\": random.sample(range(0, 101), 10)}\n",
    "df=pd.DataFrame(data)"
   ]
  },
  {
   "cell_type": "markdown",
   "metadata": {},
   "source": [
    "2. Despliege lo siguiente:\n",
    "- Todo el DataFrame"
   ]
  },
  {
   "cell_type": "code",
   "execution_count": 20,
   "metadata": {},
   "outputs": [
    {
     "name": "stdout",
     "output_type": "stream",
     "text": [
      "   Data Warehouse  Python in Data Science  Estadistica Aplicada\n",
      "0              93                      81                    96\n",
      "1              89                      64                    39\n",
      "2              87                      97                    12\n",
      "3              84                      26                    40\n",
      "4              41                      56                    31\n",
      "5              55                      21                    17\n",
      "6              23                      40                    37\n",
      "7              66                      12                    52\n",
      "8               2                       7                    57\n",
      "9              30                      82                    62\n"
     ]
    }
   ],
   "source": [
    "print(df)"
   ]
  },
  {
   "cell_type": "markdown",
   "metadata": {},
   "source": [
    "- Las primeras 5 filas del DataFrame"
   ]
  },
  {
   "cell_type": "code",
   "execution_count": 21,
   "metadata": {},
   "outputs": [
    {
     "data": {
      "text/html": [
       "<div>\n",
       "<style scoped>\n",
       "    .dataframe tbody tr th:only-of-type {\n",
       "        vertical-align: middle;\n",
       "    }\n",
       "\n",
       "    .dataframe tbody tr th {\n",
       "        vertical-align: top;\n",
       "    }\n",
       "\n",
       "    .dataframe thead th {\n",
       "        text-align: right;\n",
       "    }\n",
       "</style>\n",
       "<table border=\"1\" class=\"dataframe\">\n",
       "  <thead>\n",
       "    <tr style=\"text-align: right;\">\n",
       "      <th></th>\n",
       "      <th>Data Warehouse</th>\n",
       "      <th>Python in Data Science</th>\n",
       "      <th>Estadistica Aplicada</th>\n",
       "    </tr>\n",
       "  </thead>\n",
       "  <tbody>\n",
       "    <tr>\n",
       "      <th>0</th>\n",
       "      <td>93</td>\n",
       "      <td>81</td>\n",
       "      <td>96</td>\n",
       "    </tr>\n",
       "    <tr>\n",
       "      <th>1</th>\n",
       "      <td>89</td>\n",
       "      <td>64</td>\n",
       "      <td>39</td>\n",
       "    </tr>\n",
       "    <tr>\n",
       "      <th>2</th>\n",
       "      <td>87</td>\n",
       "      <td>97</td>\n",
       "      <td>12</td>\n",
       "    </tr>\n",
       "    <tr>\n",
       "      <th>3</th>\n",
       "      <td>84</td>\n",
       "      <td>26</td>\n",
       "      <td>40</td>\n",
       "    </tr>\n",
       "    <tr>\n",
       "      <th>4</th>\n",
       "      <td>41</td>\n",
       "      <td>56</td>\n",
       "      <td>31</td>\n",
       "    </tr>\n",
       "  </tbody>\n",
       "</table>\n",
       "</div>"
      ],
      "text/plain": [
       "   Data Warehouse  Python in Data Science  Estadistica Aplicada\n",
       "0              93                      81                    96\n",
       "1              89                      64                    39\n",
       "2              87                      97                    12\n",
       "3              84                      26                    40\n",
       "4              41                      56                    31"
      ]
     },
     "execution_count": 21,
     "metadata": {},
     "output_type": "execute_result"
    }
   ],
   "source": [
    "df[0:5]"
   ]
  },
  {
   "cell_type": "markdown",
   "metadata": {},
   "source": [
    "- Las ultimas 5 filas del DataFrame"
   ]
  },
  {
   "cell_type": "code",
   "execution_count": 28,
   "metadata": {},
   "outputs": [
    {
     "data": {
      "text/html": [
       "<div>\n",
       "<style scoped>\n",
       "    .dataframe tbody tr th:only-of-type {\n",
       "        vertical-align: middle;\n",
       "    }\n",
       "\n",
       "    .dataframe tbody tr th {\n",
       "        vertical-align: top;\n",
       "    }\n",
       "\n",
       "    .dataframe thead th {\n",
       "        text-align: right;\n",
       "    }\n",
       "</style>\n",
       "<table border=\"1\" class=\"dataframe\">\n",
       "  <thead>\n",
       "    <tr style=\"text-align: right;\">\n",
       "      <th></th>\n",
       "      <th>Data Warehouse</th>\n",
       "      <th>Python in Data Science</th>\n",
       "      <th>Estadistica Aplicada</th>\n",
       "    </tr>\n",
       "  </thead>\n",
       "  <tbody>\n",
       "    <tr>\n",
       "      <th>5</th>\n",
       "      <td>55</td>\n",
       "      <td>21</td>\n",
       "      <td>17</td>\n",
       "    </tr>\n",
       "    <tr>\n",
       "      <th>6</th>\n",
       "      <td>23</td>\n",
       "      <td>40</td>\n",
       "      <td>37</td>\n",
       "    </tr>\n",
       "    <tr>\n",
       "      <th>7</th>\n",
       "      <td>66</td>\n",
       "      <td>12</td>\n",
       "      <td>52</td>\n",
       "    </tr>\n",
       "    <tr>\n",
       "      <th>8</th>\n",
       "      <td>2</td>\n",
       "      <td>7</td>\n",
       "      <td>57</td>\n",
       "    </tr>\n",
       "    <tr>\n",
       "      <th>9</th>\n",
       "      <td>30</td>\n",
       "      <td>82</td>\n",
       "      <td>62</td>\n",
       "    </tr>\n",
       "  </tbody>\n",
       "</table>\n",
       "</div>"
      ],
      "text/plain": [
       "   Data Warehouse  Python in Data Science  Estadistica Aplicada\n",
       "5              55                      21                    17\n",
       "6              23                      40                    37\n",
       "7              66                      12                    52\n",
       "8               2                       7                    57\n",
       "9              30                      82                    62"
      ]
     },
     "execution_count": 28,
     "metadata": {},
     "output_type": "execute_result"
    }
   ],
   "source": [
    "df[-5:]"
   ]
  },
  {
   "cell_type": "markdown",
   "metadata": {},
   "source": [
    "- El valor en la celda de la fila # 1 de la columna \"Data Warehouse\""
   ]
  },
  {
   "cell_type": "code",
   "execution_count": 30,
   "metadata": {},
   "outputs": [
    {
     "data": {
      "text/plain": [
       "93"
      ]
     },
     "execution_count": 30,
     "metadata": {},
     "output_type": "execute_result"
    }
   ],
   "source": [
    "df[\"Data Warehouse\"][0]"
   ]
  },
  {
   "cell_type": "markdown",
   "metadata": {},
   "source": [
    "- El valor en la celda de la fila # 3 de la columna \"Estadistica Aplicada\""
   ]
  },
  {
   "cell_type": "code",
   "execution_count": 31,
   "metadata": {},
   "outputs": [
    {
     "data": {
      "text/plain": [
       "12"
      ]
     },
     "execution_count": 31,
     "metadata": {},
     "output_type": "execute_result"
    }
   ],
   "source": [
    "df[\"Estadistica Aplicada\"][2]"
   ]
  },
  {
   "cell_type": "markdown",
   "metadata": {},
   "source": [
    "3. Cree una cuarta columna llamada \"Promedio\", que se rellena con el promedio fila por fila de las otras 3 columnas (\"Data Warehouse\", \"Python in Data Science\", y \"Estadistica Aplicada\"). Debe de usar la funcion de Numpy para calcular el promedio. \n",
    "\n",
    "Para completar esta parte, es útil entender los conceptos básicos de NumPy cubiertos en clase y en la seccion anterior."
   ]
  },
  {
   "cell_type": "code",
   "execution_count": 45,
   "metadata": {},
   "outputs": [
    {
     "name": "stdout",
     "output_type": "stream",
     "text": [
      "   Data Warehouse  Python in Data Science  Estadistica Aplicada  Promedio\n",
      "0              93                      81                    96     90.00\n",
      "1              89                      64                    39     64.00\n",
      "2              87                      97                    12     65.33\n",
      "3              84                      26                    40     50.00\n",
      "4              41                      56                    31     42.67\n",
      "5              55                      21                    17     31.00\n",
      "6              23                      40                    37     33.33\n",
      "7              66                      12                    52     43.33\n",
      "8               2                       7                    57     22.00\n",
      "9              30                      82                    62     58.00\n"
     ]
    }
   ],
   "source": [
    "df[\"Promedio\"]=round(np.mean(df,axis = 1),2)\n",
    "print(df)"
   ]
  },
  {
   "cell_type": "markdown",
   "metadata": {},
   "source": [
    "### Vectorización"
   ]
  },
  {
   "cell_type": "markdown",
   "metadata": {},
   "source": [
    "## Ejericio 4 - Vectorización\n",
    "A continuacion, se le presenta un problema el cual debera resolver de dos formas distintas. La primera es utilizando un for loop, la segunda usando vectorización. Luego debe de comparar comprar el resultado de ambas implementaciones, tanto el valor resultante de la operacion, como el tiempo que toma la ejecucion de cada una."
   ]
  },
  {
   "cell_type": "markdown",
   "metadata": {},
   "source": [
    "### Problema:\n",
    "Dada una secuencia de precios historicos para una acción, y suponiendo que solo se le permite realizar una compra y una venta, ¿cuál es la ganancia máxima que se puede obtener?\n",
    "\n",
    "Por ejemplo, dados los precios = (20, 18, 14, 17, 20, 21, 13), el beneficio máximo sería 7, de comprar a 14 y vender a 21. Notar que el arreglo es una secuencia, por lo tanto no es factible solo utilizar los valores menores y mayores, ya que el valor mayor debe de estar obligatoriamente en una posicion futura al menor, por eso el mejor precio de compra es 14 y no 13.\n",
    "\n",
    "Para este ejemplo utilice el siguiente codigo para generar el dataset (secuencia de precios historicos), asegurese de tambien incluir el \"random seed\" para obtener reproducibilidad."
   ]
  },
  {
   "cell_type": "code",
   "execution_count": 2,
   "metadata": {},
   "outputs": [
    {
     "data": {
      "text/plain": [
       "array([80.99342831, 77.7234714 , 77.29537708, 77.04605971, 71.53169325,\n",
       "       69.53172609, 71.15842563, 67.53486946, 63.06105123, 63.08512009,\n",
       "       59.07316461, 57.06854049, 56.48392454, 50.17343951, 48.55016433,\n",
       "       48.87542494, 45.97433776, 46.62849467, 42.18395185, 39.1753926 ,\n",
       "       42.93129754, 37.5484474 , 36.13505641, 31.15050363, 30.91123455,\n",
       "       30.22184518, 28.98372713, 33.32282461, 32.65586548, 34.55946964,\n",
       "       35.2251582 , 41.41884208, 38.97300555, 38.17029243, 43.2165184 ,\n",
       "       40.41545556, 44.56058433, 41.50923118, 44.05791362, 48.39372247,\n",
       "       50.76264745, 50.91416513, 51.62584629, 52.54064975, 51.47152745,\n",
       "       54.2745973 , 56.07872246, 60.39995874, 60.25866515, 57.33106255,\n",
       "       62.79102508, 62.65840687, 63.36044171, 67.22335258, 69.34771333,\n",
       "       70.43398881, 68.17870781, 70.52443239, 73.09109829, 75.66537597,\n",
       "       74.04165152, 73.98765641, 71.50527877, 70.68450983, 74.06094908,\n",
       "       74.50735185, 71.00982591, 72.51988631, 70.59506692, 67.94052972,\n",
       "       69.3125348 , 71.02479108, 67.23604023, 69.79595398, 60.78615082,\n",
       "       67.02842039, 64.91768388, 63.5045494 , 63.64506001, 58.84537499,\n",
       "       61.7401434 , 62.25268668, 63.85322399, 59.21986982, 57.99839741,\n",
       "       57.97084489, 60.16413757, 58.34980991, 55.99176164, 57.43679128,\n",
       "       55.96338587, 57.06549511, 53.0830733 , 53.19082955, 52.4209119 ,\n",
       "       49.63707267, 52.51531748, 51.80416183, 50.65125255, 49.53082573])"
      ]
     },
     "execution_count": 2,
     "metadata": {},
     "output_type": "execute_result"
    }
   ],
   "source": [
    "# Seed para reproducibilidad\n",
    "import numpy as np\n",
    "np.random.seed(42)\n",
    "# Creamos un arreglo que en su mayoria contiene Nans con algunos \"puntos de inflexion\" (local min/max).\n",
    "precios = np.full(100, fill_value=np.nan)\n",
    "precios[[0, 25, 60, -1]] = [80., 30., 75., 50.]\n",
    "\n",
    "# De manera lineal interpolamos los valores faltantes y agregamos ruido.\n",
    "x = np.arange(len(precios))\n",
    "es_valido = ~np.isnan(precios)\n",
    "precios = np.interp(x=x, xp=x[es_valido], fp=precios[es_valido])\n",
    "precios += np.random.randn(len(precios)) * 2\n",
    "precios"
   ]
  },
  {
   "cell_type": "markdown",
   "metadata": {},
   "source": [
    "#### utilizando un for loop"
   ]
  },
  {
   "cell_type": "code",
   "execution_count": 5,
   "metadata": {},
   "outputs": [
    {
     "name": "stdout",
     "output_type": "stream",
     "text": [
      "La ganancia máxima es  46.68  comprando a  28.98 y vendiendo a  75.67\n",
      "Con este método el tiempo fue :  0.003642999999999841\n"
     ]
    }
   ],
   "source": [
    "import time\n",
    "tic1 = time.process_time()\n",
    "\n",
    "beneficio_maximo=0\n",
    "for i in precios:\n",
    "    maxi2=0\n",
    "    for x in precios[list(precios).index(i):]:\n",
    "        if x-i>maxi:\n",
    "            maxi=x-i\n",
    "            if maxi>beneficio_maximo:\n",
    "                beneficio_maximo=maxi\n",
    "                v1=i\n",
    "                v2=x\n",
    "        \n",
    "        \n",
    "print(\"La ganancia máxima es \", round(beneficio_maximo,2),\n",
    "      \" comprando a \", round(v1,2), \"y vendiendo a \", round(v2,2))\n",
    "phyton_time1 = time.process_time() - tic1\n",
    "print(\"Con este método el tiempo fue : \",phyton_time1)"
   ]
  },
  {
   "cell_type": "markdown",
   "metadata": {},
   "source": [
    "#### usando vectorización"
   ]
  },
  {
   "cell_type": "code",
   "execution_count": 7,
   "metadata": {},
   "outputs": [
    {
     "name": "stdout",
     "output_type": "stream",
     "text": [
      "La ganancia máxima es  46.68  comprando a  28.98 y vendiendo a  75.67\n",
      "Con este método el tiempo fue :  0.0044319999999999915\n"
     ]
    }
   ],
   "source": [
    "import time\n",
    "tic2 = time.process_time()\n",
    "\n",
    "beneficio_maximo=0\n",
    "for i in precios:\n",
    "    if max(precios[list(precios).index(i):])-i > beneficio_maximo:\n",
    "        beneficio_maximo = max(precios[list(precios).index(i):])-i\n",
    "        v1=i\n",
    "        v2=max(precios[list(precios).index(i):])\n",
    "        \n",
    "print(\"La ganancia máxima es \", round(beneficio_maximo,2),\n",
    "      \" comprando a \", round(v1,2), \"y vendiendo a \", round(v2,2))\n",
    "\n",
    "phyton_time2 = time.process_time() - tic2\n",
    "print(\"Con este método el tiempo fue : \",phyton_time2)"
   ]
  }
 ],
 "metadata": {
  "kernelspec": {
   "display_name": "Python 3",
   "language": "python",
   "name": "python3"
  },
  "language_info": {
   "codemirror_mode": {
    "name": "ipython",
    "version": 3
   },
   "file_extension": ".py",
   "mimetype": "text/x-python",
   "name": "python",
   "nbconvert_exporter": "python",
   "pygments_lexer": "ipython3",
   "version": "3.8.5"
  }
 },
 "nbformat": 4,
 "nbformat_minor": 4
}
